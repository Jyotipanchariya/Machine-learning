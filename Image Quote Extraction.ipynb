{
 "cells": [
  {
   "cell_type": "code",
   "execution_count": 1,
   "id": "b179c76b",
   "metadata": {},
   "outputs": [],
   "source": [
    "#!pip install tesseract\n",
    "#!pip install pytesseract\n",
    "#!pip install opencv-python"
   ]
  },
  {
   "cell_type": "markdown",
   "id": "916b9fa1",
   "metadata": {},
   "source": [
    "1.Tesseract is an optical character(ocr) engine is used to recognize text in images\n",
    "\n",
    "2. Pytesseract provides OCR functionality for extracting text from images using tesseract OCR engine\n",
    "\n",
    "3. OpenCV python provides images processing to improve OCR accuracy and images reading and writing function"
   ]
  },
  {
   "cell_type": "code",
   "execution_count": 1,
   "id": "4f583a9a",
   "metadata": {},
   "outputs": [],
   "source": [
    "import pytesseract #Import Pytesseract module\n",
    "pytesseract.pytesseract.tesseract_cmd=\"C:\\\\Program Files\\\\Tesseract-OCR\\\\tesseract.exe\""
   ]
  },
  {
   "cell_type": "code",
   "execution_count": 2,
   "id": "75535cf1",
   "metadata": {},
   "outputs": [],
   "source": [
    "import cv2 #import cv2 module for image processing"
   ]
  },
  {
   "cell_type": "code",
   "execution_count": 4,
   "id": "d7bdbeee",
   "metadata": {},
   "outputs": [
    {
     "name": "stdout",
     "output_type": "stream",
     "text": [
      "Perfection is\n",
      "\n",
      "not attainable,\n",
      "butif we chase\n",
      "perfection we can\n",
      "catch excellence.\n",
      "\n",
      "— VINCE LOMBARDI\n",
      "\n",
      "INTERNATIONAL\n",
      "\n"
     ]
    }
   ],
   "source": [
    "img=cv2.imread(\"C:\\\\Users\\\\jyoti\\\\OneDrive\\\\Desktop\\\\Datasets\\\\2.png\") #to read the image file\n",
    "# cv2.imshow('Image',img) #to display the image in a window\n",
    "# cv2.waitKey(0)#wait fpr keypress before closing the window\n",
    "# cv2.destroyAllWindows() #to close the images window\n",
    "text=pytesseract.image_to_string(img) #to extract from the image\n",
    "print(text) #print the text\n"
   ]
  },
  {
   "cell_type": "code",
   "execution_count": 5,
   "id": "6bfcd299",
   "metadata": {},
   "outputs": [
    {
     "name": "stdout",
     "output_type": "stream",
     "text": [
      "Never forget:\n",
      "\n",
      "How far you have come.\n",
      "Everything you have gotten\n",
      "through. All the times you have\n",
      "‘pushed on even when you felt\n",
      "you couldnt. all the mornings\n",
      "‘you got out of bed no matter how\n",
      "hhard it was. All the times you\n",
      "‘wanted to give up butyou got\n",
      "‘through another day. Never\n",
      "forget how much strength you\n",
      "have learned and developed\n",
      "along the way.\n",
      "\n",
      "ai\n",
      "\n"
     ]
    }
   ],
   "source": [
    "img=cv2.imread(\"C:\\\\Users\\\\jyoti\\\\OneDrive\\\\Desktop\\\\Datasets\\\\3.png\")\n",
    "text=pytesseract.image_to_string(img)\n",
    "print(text)"
   ]
  },
  {
   "cell_type": "code",
   "execution_count": 7,
   "id": "5252142b",
   "metadata": {},
   "outputs": [
    {
     "name": "stdout",
     "output_type": "stream",
     "text": [
      "If you only carry one thing throughout\n",
      "your entire life, let it be hope. Let it be\n",
      "hope that better things are always\n",
      "ahead. Let it be hope that you can get\n",
      "through even the toughest of times. Let\n",
      "it be hope that you are stronger than\n",
      "any challenge that comes your way.\n",
      "Let it be hope that you are exactly\n",
      "where you are meant to be right now,\n",
      "and that you are on the path to where\n",
      "you are meant to be... Because during\n",
      "these times, hope will be the very thing\n",
      "that carries you through.\n",
      "- Nikki Banas\n",
      "\n"
     ]
    }
   ],
   "source": [
    "img=cv2.imread(\"C:\\\\Users\\\\jyoti\\\\OneDrive\\\\Desktop\\\\Datasets\\\\4.png\")\n",
    "text=pytesseract.image_to_string(img)\n",
    "print(text)\n",
    "    "
   ]
  },
  {
   "cell_type": "code",
   "execution_count": null,
   "id": "81dceea6",
   "metadata": {},
   "outputs": [],
   "source": []
  }
 ],
 "metadata": {
  "kernelspec": {
   "display_name": "Python 3 (ipykernel)",
   "language": "python",
   "name": "python3"
  },
  "language_info": {
   "codemirror_mode": {
    "name": "ipython",
    "version": 3
   },
   "file_extension": ".py",
   "mimetype": "text/x-python",
   "name": "python",
   "nbconvert_exporter": "python",
   "pygments_lexer": "ipython3",
   "version": "3.11.5"
  }
 },
 "nbformat": 4,
 "nbformat_minor": 5
}
