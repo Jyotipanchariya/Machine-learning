{
 "cells": [
  {
   "cell_type": "markdown",
   "id": "9aaa4ade",
   "metadata": {},
   "source": [
    "# STUDENT GRADE CALCULATOR"
   ]
  },
  {
   "cell_type": "code",
   "execution_count": 8,
   "id": "95e19c32",
   "metadata": {},
   "outputs": [
    {
     "name": "stdout",
     "output_type": "stream",
     "text": [
      "Enter Marks Obtained in 5 Subjects: \n",
      "67\n",
      "89\n",
      "77\n",
      "89\n",
      "88\n",
      "Your Grade is A2\n"
     ]
    }
   ],
   "source": [
    "print(\"Enter Marks Obtained in 5 Subjects: \")\n",
    "markOne = int(input())\n",
    "markTwo = int(input())\n",
    "markThree = int(input())\n",
    "markFour = int(input())\n",
    "markFive = int(input())\n",
    "\n",
    "tot = markOne+markTwo+markThree+markFour+markFive\n",
    "avg = tot/5\n",
    "\n",
    "if avg>=91 and avg<=100:\n",
    "    print(\"Your Grade is A1\")\n",
    "elif avg>=81 and avg<91:\n",
    "    print(\"Your Grade is A2\")\n",
    "elif avg>=71 and avg<81:\n",
    "    print(\"Your Grade is B1\")\n",
    "elif avg>=61 and avg<71:\n",
    "    print(\"Your Grade is B2\")\n",
    "elif avg>=51 and avg<61:\n",
    "    print(\"Your Grade is C1\")\n",
    "elif avg>=41 and avg<51:\n",
    "    print(\"Your Grade is C2\")\n",
    "elif avg>=33 and avg<41:\n",
    "    print(\"Your Grade is D\")\n",
    "elif avg>=21 and avg<33:\n",
    "    print(\"Your Grade is E1\")\n",
    "elif avg>=0 and avg<21:\n",
    "    print(\"Your Grade is E2\")\n",
    "else:\n",
    "    print(\"Invalid Input!\")"
   ]
  },
  {
   "cell_type": "markdown",
   "id": "f809bc78",
   "metadata": {},
   "source": [
    "# TEMPERATURE CONVERTOR"
   ]
  },
  {
   "cell_type": "code",
   "execution_count": 9,
   "id": "18a7a381",
   "metadata": {},
   "outputs": [
    {
     "name": "stdout",
     "output_type": "stream",
     "text": [
      "Enter temperature in Celsius: 34\n",
      "Temperature in Fahrenheit: 93.2\n"
     ]
    }
   ],
   "source": [
    "def celsius_to_fahrenheit(celsius):\n",
    "    fahrenheit = (celsius * 9/5) + 32\n",
    "    return fahrenheit\n",
    "\n",
    "celsius = float(input(\"Enter temperature in Celsius: \"))\n",
    "fahrenheit = celsius_to_fahrenheit(celsius)\n",
    "\n",
    "\n",
    "print(\"Temperature in Fahrenheit:\", fahrenheit)"
   ]
  },
  {
   "cell_type": "code",
   "execution_count": 11,
   "id": "feb957fa",
   "metadata": {},
   "outputs": [
    {
     "ename": "SyntaxError",
     "evalue": "invalid syntax (2504108453.py, line 16)",
     "output_type": "error",
     "traceback": [
      "\u001b[1;36m  Cell \u001b[1;32mIn[11], line 16\u001b[1;36m\u001b[0m\n\u001b[1;33m    elif (c==2):\u001b[0m\n\u001b[1;37m    ^\u001b[0m\n\u001b[1;31mSyntaxError\u001b[0m\u001b[1;31m:\u001b[0m invalid syntax\n"
     ]
    }
   ],
   "source": [
    "print(\"Welcome to State bank of India\")\n",
    "p=int(input(\"Enter your 4 digit pin number: \"))\n",
    "m = 25000\n",
    "if(p == 1234):\n",
    "    print(\"1-Withdraw\")\n",
    "    print(\"2-Balance Enquiry\")\n",
    "    print(\"3-Fast Cash\")\n",
    "c = int(input(\"Please choose transactions: \"))\n",
    "if (c == 1):\n",
    "    w=int(input(\"Enter withdraw amount: \"))\n",
    "    if (w < m and w%100 == 0):\n",
    "        print(\"Please take your amount:\", w)\n",
    "else:\n",
    "    print(\"Invalid cash\")\n",
    "\n",
    "elif (c==2):\n",
    "    print(\"Your available amount : \",m)\n",
    "\n",
    "elif (c == 3):\n",
    "    print(\"1->5,000\")\n",
    "    print(\"2->10,000\")\n",
    "    print(\"3->15,000\")\n",
    "    print(\"4->20,000\")\n",
    "f = int(input(\"Enter fast cash option: \"))\n",
    "if (f == 1 and 5000 < m):\n",
    "    print(\"please take cash 5000\")\n",
    "elif (f == 2 and 10000 < m):\n",
    "    print(\"please take cash 10000\")\n",
    "elif (f == 3 and 15000 < m):\n",
    "    print(\"please take cash 15000\")\n",
    "elif (f == 4 and 20000 < m):\n",
    "    print(\"please take cash 20000\")\n",
    "else:\n",
    "    print(\"Invalid fast cash option\")\n",
    "else:\n",
    "    print(\"Wrong choice\")\n",
    "else:\n",
    "    print(\"Wrong pin number\")\n"
   ]
  },
  {
   "cell_type": "code",
   "execution_count": null,
   "id": "59c05542",
   "metadata": {},
   "outputs": [],
   "source": []
  },
  {
   "cell_type": "code",
   "execution_count": null,
   "id": "41a2746b",
   "metadata": {},
   "outputs": [],
   "source": []
  }
 ],
 "metadata": {
  "kernelspec": {
   "display_name": "Python 3 (ipykernel)",
   "language": "python",
   "name": "python3"
  },
  "language_info": {
   "codemirror_mode": {
    "name": "ipython",
    "version": 3
   },
   "file_extension": ".py",
   "mimetype": "text/x-python",
   "name": "python",
   "nbconvert_exporter": "python",
   "pygments_lexer": "ipython3",
   "version": "3.11.5"
  }
 },
 "nbformat": 4,
 "nbformat_minor": 5
}
